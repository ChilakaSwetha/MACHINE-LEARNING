{
  "nbformat": 4,
  "nbformat_minor": 0,
  "metadata": {
    "colab": {
      "provenance": [],
      "authorship_tag": "ABX9TyPc4STiWxDTSa56O77LTeU0",
      "include_colab_link": true
    },
    "kernelspec": {
      "name": "python3",
      "display_name": "Python 3"
    },
    "language_info": {
      "name": "python"
    }
  },
  "cells": [
    {
      "cell_type": "markdown",
      "metadata": {
        "id": "view-in-github",
        "colab_type": "text"
      },
      "source": [
        "<a href=\"https://colab.research.google.com/github/ChilakaSwetha/MACHINE-LEARNING/blob/main/untitled4.ipynb\" target=\"_parent\"><img src=\"https://colab.research.google.com/assets/colab-badge.svg\" alt=\"Open In Colab\"/></a>"
      ]
    },
    {
      "source": [
        "import pandas as pd\n",
        "import numpy as np\n",
        "\n",
        "# Attempt to read the CSV file\n",
        "try:\n",
        "    data = pd.read_csv('data.csv')\n",
        "    print(\"File 'data.csv' found and loaded successfully!\")\n",
        "except FileNotFoundError:\n",
        "    print(\"Error: 'data.csv' not found in the current directory.\")\n",
        "    # You can either upload it, create it, or provide the full path here:\n",
        "    # Example: data = pd.read_csv('/path/to/your/data.csv')\n",
        "    # Replace '/path/to/your/data.csv' with the actual path\n",
        "    # If you upload or create the file, ensure it's in the same directory.\n",
        "    # Comment out the next line to exit if error persists.\n",
        "    #raise  # Removing this raise exception for continuing execution\n",
        "    data = pd.DataFrame({'col1': [], 'col2': [], 'col3': []})  #Creating Empty DataFrame if path is not provided\n",
        "\n",
        "concepts = np.array(data)[:,:-1]\n",
        "print(\"Concepts:\")\n",
        "print(concepts)\n",
        "\n",
        "target = np.array(data)[:,-1]\n",
        "print(\"\\nTarget:\")\n",
        "print(target)\n",
        "\n",
        "def train(con, tar):\n",
        "    for i, val in enumerate(tar):\n",
        "        if val == 'yes':\n",
        "            specific_h = con[i].copy()\n",
        "            break\n",
        "\n",
        "    for i, val in enumerate(con):\n",
        "        if tar[i] == 'yes':\n",
        "            for x in range(len(specific_h)):\n",
        "                if val[x] != specific_h[x]:\n",
        "                    specific_h[x] = '?'\n",
        "                else:\n",
        "                    pass\n",
        "    return specific_h"
      ],
      "cell_type": "code",
      "metadata": {
        "colab": {
          "base_uri": "https://localhost:8080/"
        },
        "id": "r1Ec-Cd5Z3Kl",
        "outputId": "25d30b32-c602-497d-8657-1b55d3708da9"
      },
      "execution_count": 1,
      "outputs": [
        {
          "output_type": "stream",
          "name": "stdout",
          "text": [
            "Error: 'data.csv' not found in the current directory.\n",
            "Concepts:\n",
            "[]\n",
            "\n",
            "Target:\n",
            "[]\n"
          ]
        }
      ]
    }
  ]
}