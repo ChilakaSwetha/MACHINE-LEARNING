{
  "nbformat": 4,
  "nbformat_minor": 0,
  "metadata": {
    "colab": {
      "provenance": [],
      "authorship_tag": "ABX9TyN1hCp7dLBAhSeOubqerRHE",
      "include_colab_link": true
    },
    "kernelspec": {
      "name": "python3",
      "display_name": "Python 3"
    },
    "language_info": {
      "name": "python"
    }
  },
  "cells": [
    {
      "cell_type": "markdown",
      "metadata": {
        "id": "view-in-github",
        "colab_type": "text"
      },
      "source": [
        "<a href=\"https://colab.research.google.com/github/ChilakaSwetha/MACHINE-LEARNING/blob/main/Untitled5.ipynb\" target=\"_parent\"><img src=\"https://colab.research.google.com/assets/colab-badge.svg\" alt=\"Open In Colab\"/></a>"
      ]
    },
    {
      "cell_type": "code",
      "source": [
        "import math\n",
        "\n",
        "# Helper function to calculate entropy\n",
        "def entropy(data):\n",
        "    total = len(data)\n",
        "    labels = {}\n",
        "    for instance in data:\n",
        "        label = instance[-1]  # Last element is the class label\n",
        "        if label not in labels:\n",
        "            labels[label] = 0\n",
        "        labels[label] += 1\n",
        "    entropy_value = 0\n",
        "    for label in labels.values():\n",
        "        probability = label / total\n",
        "        entropy_value -= probability * math.log2(probability)\n",
        "    return entropy_value\n",
        "\n",
        "# Helper function to calculate the information gain\n",
        "def information_gain(data, attribute_index):\n",
        "    total_entropy = entropy(data)\n",
        "    attribute_values = {}\n",
        "\n",
        "    # Group data by attribute values\n",
        "    for instance in data:\n",
        "        value = instance[attribute_index]\n",
        "        if value not in attribute_values:\n",
        "            attribute_values[value] = []\n",
        "        attribute_values[value].append(instance)\n",
        "\n",
        "    weighted_entropy = 0\n",
        "    for value, subset in attribute_values.items():\n",
        "        weight = len(subset) / len(data)\n",
        "        weighted_entropy += weight * entropy(subset)\n",
        "\n",
        "    return total_entropy - weighted_entropy\n",
        "\n",
        "# Function to find the best attribute for splitting\n",
        "def best_attribute(data, attributes):\n",
        "    best_gain = -1\n",
        "    best_attr_index = -1\n",
        "    for i in range(len(attributes)):\n",
        "        gain = information_gain(data, i)\n",
        "        if gain > best_gain:\n",
        "            best_gain = gain\n",
        "            best_attr_index = i\n",
        "    return best_attr_index\n",
        "\n",
        "# ID3 algorithm to build the decision tree\n",
        "def id3(data, attributes, class_labels):\n",
        "    # If all instances have the same class, return a leaf node\n",
        "    labels = [instance[-1] for instance in data]\n",
        "    if len(set(labels)) == 1:\n",
        "        return labels[0]\n",
        "\n",
        "    # If no attributes left, return the most common class label\n",
        "    if not attributes:\n",
        "        return max(set(labels), key=labels.count)\n",
        "\n",
        "    # Find the best attribute to split on\n",
        "    best_attr_index = best_attribute(data, attributes)\n",
        "    best_attr = attributes[best_attr_index]\n",
        "\n",
        "    # Create a decision node\n",
        "    tree = {best_attr: {}}\n",
        "\n",
        "    # Remove the chosen attribute from the list of available attributes\n",
        "    new_attributes = attributes[:best_attr_index] + attributes[best_attr_index+1:]\n",
        "\n",
        "    # Group data by the values of the best attribute\n",
        "    attribute_values = {}\n",
        "    for instance in data:\n",
        "        value = instance[best_attr_index]\n",
        "        if value not in attribute_values:\n",
        "            attribute_values[value] = []\n",
        "        attribute_values[value].append(instance)\n",
        "\n",
        "    # Recursively create subtrees\n",
        "    for value, subset in attribute_values.items():\n",
        "        tree[best_attr][value] = id3(subset, new_attributes, class_labels)\n",
        "\n",
        "    return tree\n",
        "\n",
        "# Example usage\n",
        "if __name__ == \"__main__\":\n",
        "    # Example dataset (last column is the class label)\n",
        "    data = [\n",
        "        [1, 1, 'Yes'],\n",
        "        [1, 2, 'No'],\n",
        "        [2, 1, 'Yes'],\n",
        "        [2, 2, 'No'],\n",
        "        [3, 1, 'Yes'],\n",
        "        [3, 2, 'No']\n",
        "    ]\n",
        "\n",
        "    # Attribute names (excluding the class label)\n",
        "    attributes = ['Outlook', 'Temperature']\n",
        "\n",
        "    # Class labels\n",
        "    class_labels = ['Yes', 'No']\n",
        "\n",
        "    # Build the decision tree\n",
        "    tree = id3(data, attributes, class_labels)\n",
        "\n",
        "    print(\"Decision Tree:\")\n",
        "    print(tree)\n"
      ],
      "metadata": {
        "colab": {
          "base_uri": "https://localhost:8080/"
        },
        "id": "EQ_nyl8pa5_F",
        "outputId": "5d342426-5387-4386-ff13-5a8fe96f4df0"
      },
      "execution_count": 2,
      "outputs": [
        {
          "output_type": "stream",
          "name": "stdout",
          "text": [
            "Decision Tree:\n",
            "{'Temperature': {1: 'Yes', 2: 'No'}}\n"
          ]
        }
      ]
    }
  ]
}